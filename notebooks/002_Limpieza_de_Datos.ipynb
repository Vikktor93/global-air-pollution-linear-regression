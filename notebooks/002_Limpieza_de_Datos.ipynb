{
 "cells": [
  {
   "cell_type": "markdown",
   "metadata": {},
   "source": [
    "# Limpieza de Datos\n",
    "En este notebook, se realiza la limpieza del dataset [Global Air Pollution][kaggle]\n",
    "\n",
    "\n",
    "[kaggle]: https://www.kaggle.com/datasets/hasibalmuzdadid/global-air-pollution-dataset\n",
    "\n",
    "### **Objetivos**\n",
    "\n",
    "1. Identificación de valores nulos\n",
    "2. Eliminación y/o reemplazo de valores nulos\n",
    "3. Identificación y eliminación de valores duplicados\n",
    "4. Generación del nuevo dataset tratado"
   ]
  },
  {
   "cell_type": "markdown",
   "metadata": {},
   "source": [
    "### Importación de Librerías"
   ]
  },
  {
   "cell_type": "code",
   "execution_count": 1,
   "metadata": {},
   "outputs": [],
   "source": [
    "import pandas as pd\n",
    "import seaborn as sns\n",
    "import matplotlib.pyplot as plt\n",
    "import numpy as np"
   ]
  },
  {
   "cell_type": "markdown",
   "metadata": {},
   "source": [
    "### Cargando el Dataset"
   ]
  },
  {
   "cell_type": "code",
   "execution_count": 2,
   "metadata": {},
   "outputs": [],
   "source": [
    "df = pd.read_csv(\"../data/global_air_pollution.csv\")"
   ]
  },
  {
   "cell_type": "markdown",
   "metadata": {},
   "source": [
    "### Búsqueda de valores NaN\n",
    "A continuación se presenta la cantidad de valores nulos por cada columna."
   ]
  },
  {
   "cell_type": "code",
   "execution_count": 3,
   "metadata": {},
   "outputs": [
    {
     "data": {
      "text/plain": [
       "Country               427\n",
       "City                    1\n",
       "AQI Value               0\n",
       "AQI Category            0\n",
       "CO AQI Value            0\n",
       "CO AQI Category         0\n",
       "Ozone AQI Value         0\n",
       "Ozone AQI Category      0\n",
       "NO2 AQI Value           0\n",
       "NO2 AQI Category        0\n",
       "PM2.5 AQI Value         0\n",
       "PM2.5 AQI Category      0\n",
       "dtype: int64"
      ]
     },
     "execution_count": 3,
     "metadata": {},
     "output_type": "execute_result"
    }
   ],
   "source": [
    "df.isna().sum()"
   ]
  },
  {
   "cell_type": "markdown",
   "metadata": {},
   "source": [
    "Solamente dos variables del dataset presentan valores nulos:\n",
    "- La variable `Country` presenta 427.\n",
    "- La variable `City` presenta 1."
   ]
  },
  {
   "cell_type": "markdown",
   "metadata": {},
   "source": [
    "### Tratamiento de Valores Nulos\n",
    "\n",
    "#### Reemplazo de Valores Nulos por la Moda en la Columna Country\n",
    "\n",
    "Para abordar el tratamiento de valores nulos, en el caso de columna `Country` la mejor opción es reemplazar estos valores por la moda en lugar de eliminarlos.\n",
    "\n",
    "La eliminación es más adecuada cuando los valores faltantes son pocos y no representan un porcentaje considerable del dataset. Pero cuando hay una cantidad significativa de datos faltantes, suele ser una mejor opción para evitar perder información valiosa, el relleno de la información, en este caso con los valores más frecuentes.\n",
    "\n",
    "Si eliminamos los 427 registros, estaríamos sacrificando una parte del dataset que, aunque tenga valores faltantes en `Country`, puede tener información valiosa en otras columnas, como los índices de calidad del aire (AQI) y las ciudades."
   ]
  },
  {
   "cell_type": "code",
   "execution_count": 4,
   "metadata": {},
   "outputs": [],
   "source": [
    "moda = df['Country'].mode()[0]\n",
    "df['Country'] = df['Country'].fillna(moda)"
   ]
  },
  {
   "cell_type": "markdown",
   "metadata": {},
   "source": [
    "#### Eliminación de Valores Nulos Columna City\n"
   ]
  },
  {
   "cell_type": "code",
   "execution_count": 5,
   "metadata": {},
   "outputs": [],
   "source": [
    "df.dropna(subset=['City'], inplace=True)"
   ]
  },
  {
   "cell_type": "markdown",
   "metadata": {},
   "source": [
    "#### Búsqueda y Eliminación de Registros Duplicados\n",
    "\n",
    "Se procede a identificar y eliminar las filas duplicadas para asegurar que cada registro en el dataset sea único y evitar algún tipo de sesgo."
   ]
  },
  {
   "cell_type": "code",
   "execution_count": 6,
   "metadata": {},
   "outputs": [
    {
     "name": "stdout",
     "output_type": "stream",
     "text": [
      "Cantidad de filas duplicadas: 0\n",
      "Número de filas duplicadas después de la limpieza: 0\n"
     ]
    }
   ],
   "source": [
    "print(f'Cantidad de filas duplicadas: {df.duplicated().sum()}')\n",
    "\n",
    "df.drop_duplicates(inplace=True)\n",
    "print(f'Número de filas duplicadas después de la limpieza: {df.duplicated().sum()}')"
   ]
  },
  {
   "cell_type": "markdown",
   "metadata": {},
   "source": [
    "#### Normalización de Texto\n",
    "Se pretende eliminar espacios al principio y final de los valores de la columna `Country` y dejar el texto uniforme"
   ]
  },
  {
   "cell_type": "code",
   "execution_count": 7,
   "metadata": {},
   "outputs": [],
   "source": [
    "df['Country'] = df['Country'].str.strip()"
   ]
  },
  {
   "cell_type": "markdown",
   "metadata": {},
   "source": [
    "#### Dataset limpio"
   ]
  },
  {
   "cell_type": "code",
   "execution_count": 8,
   "metadata": {},
   "outputs": [
    {
     "name": "stdout",
     "output_type": "stream",
     "text": [
      "<class 'pandas.core.frame.DataFrame'>\n",
      "Index: 23462 entries, 0 to 23462\n",
      "Data columns (total 12 columns):\n",
      " #   Column              Non-Null Count  Dtype \n",
      "---  ------              --------------  ----- \n",
      " 0   Country             23462 non-null  object\n",
      " 1   City                23462 non-null  object\n",
      " 2   AQI Value           23462 non-null  int64 \n",
      " 3   AQI Category        23462 non-null  object\n",
      " 4   CO AQI Value        23462 non-null  int64 \n",
      " 5   CO AQI Category     23462 non-null  object\n",
      " 6   Ozone AQI Value     23462 non-null  int64 \n",
      " 7   Ozone AQI Category  23462 non-null  object\n",
      " 8   NO2 AQI Value       23462 non-null  int64 \n",
      " 9   NO2 AQI Category    23462 non-null  object\n",
      " 10  PM2.5 AQI Value     23462 non-null  int64 \n",
      " 11  PM2.5 AQI Category  23462 non-null  object\n",
      "dtypes: int64(5), object(7)\n",
      "memory usage: 2.3+ MB\n"
     ]
    }
   ],
   "source": [
    "df.info()"
   ]
  },
  {
   "cell_type": "markdown",
   "metadata": {},
   "source": [
    "#### Generación del Dataset Limpio"
   ]
  },
  {
   "cell_type": "code",
   "execution_count": 9,
   "metadata": {},
   "outputs": [],
   "source": [
    "df.to_csv('../data/dataset_clean.csv', index=False)"
   ]
  }
 ],
 "metadata": {
  "kernelspec": {
   "display_name": "DataSciencePython",
   "language": "python",
   "name": "python3"
  },
  "language_info": {
   "codemirror_mode": {
    "name": "ipython",
    "version": 3
   },
   "file_extension": ".py",
   "mimetype": "text/x-python",
   "name": "python",
   "nbconvert_exporter": "python",
   "pygments_lexer": "ipython3",
   "version": "3.11.9"
  }
 },
 "nbformat": 4,
 "nbformat_minor": 2
}
